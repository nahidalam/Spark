{
 "cells": [
  {
   "cell_type": "code",
   "execution_count": 45,
   "metadata": {},
   "outputs": [],
   "source": [
    "from pyspark.sql import SparkSession\n",
    "spark = SparkSession.builder.appName('test').getOrCreate()"
   ]
  },
  {
   "cell_type": "code",
   "execution_count": 15,
   "metadata": {},
   "outputs": [],
   "source": [
    "df = spark.read.csv('./test.csv', header=True, inferSchema=True)"
   ]
  },
  {
   "cell_type": "code",
   "execution_count": 16,
   "metadata": {},
   "outputs": [
    {
     "name": "stdout",
     "output_type": "stream",
     "text": [
      "+---+------+\n",
      "| id|record|\n",
      "+---+------+\n",
      "| e1|     A|\n",
      "| e2|     B|\n",
      "| e3|     C|\n",
      "+---+------+\n",
      "\n"
     ]
    }
   ],
   "source": [
    "df.show()"
   ]
  },
  {
   "cell_type": "code",
   "execution_count": 65,
   "metadata": {},
   "outputs": [],
   "source": [
    "subIDXsuperID = {'e4':['e1','e2']}"
   ]
  },
  {
   "cell_type": "code",
   "execution_count": 66,
   "metadata": {},
   "outputs": [
    {
     "data": {
      "text/plain": [
       "['e1', 'e2']"
      ]
     },
     "execution_count": 66,
     "metadata": {},
     "output_type": "execute_result"
    }
   ],
   "source": [
    "subIDXsuperID['e4']"
   ]
  },
  {
   "cell_type": "code",
   "execution_count": 71,
   "metadata": {},
   "outputs": [
    {
     "name": "stdout",
     "output_type": "stream",
     "text": [
      "+---+------+\n",
      "| id|record|\n",
      "+---+------+\n",
      "| e1|     A|\n",
      "| e2|     B|\n",
      "| e3|     C|\n",
      "| e4|     A|\n",
      "| e4|     B|\n",
      "+---+------+\n",
      "\n"
     ]
    }
   ],
   "source": [
    "from pyspark.sql import functions as F\n",
    "for superID in subIDXsuperID:\n",
    "    subIDs = subIDXsuperID[superID]\n",
    "    df2 = df.filter(df[\"id\"].isin(subIDs))\n",
    "    for ID in subIDs:\n",
    "        update_func = (F.when(F.col('id') == ID, superID).otherwise(F.col('id')))\n",
    "        df2 = df2.withColumn('id', update_func)\n",
    "    #df2.show()\n",
    "    appended = df.union(df2)\n",
    "appended.show()    "
   ]
  },
  {
   "cell_type": "code",
   "execution_count": 36,
   "metadata": {},
   "outputs": [
    {
     "name": "stdout",
     "output_type": "stream",
     "text": [
      "+------+\n",
      "|record|\n",
      "+------+\n",
      "|     A|\n",
      "+------+\n",
      "\n"
     ]
    }
   ],
   "source": [
    "df.filter(\"id='e1'\").select(['record']).show()"
   ]
  }
 ],
 "metadata": {
  "kernelspec": {
   "display_name": "Python 3",
   "language": "python",
   "name": "python3"
  },
  "language_info": {
   "codemirror_mode": {
    "name": "ipython",
    "version": 3
   },
   "file_extension": ".py",
   "mimetype": "text/x-python",
   "name": "python",
   "nbconvert_exporter": "python",
   "pygments_lexer": "ipython3",
   "version": "3.6.7"
  }
 },
 "nbformat": 4,
 "nbformat_minor": 2
}
